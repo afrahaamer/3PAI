{
 "cells": [
  {
   "cell_type": "code",
   "execution_count": 1,
   "metadata": {
    "id": "ovOo4C0zSwSL"
   },
   "outputs": [],
   "source": [
    "import pandas as pd\n",
    "import numpy as n\n",
    "\n",
    "import matplotlib.pyplot as plt\n",
    "\n",
    "import seaborn as sns\n",
    "sns.set(rc={'figure.figsize':(11.7,8.27)})"
   ]
  },
  {
   "cell_type": "code",
   "execution_count": 2,
   "metadata": {},
   "outputs": [],
   "source": [
    "\n",
    "data = pd.read_csv(r\"resources\\data.csv\")\n",
    "riasec_perc = pd.read_csv(r\"resources\\riasec\\riasec_perc.csv\",index_col=0)\n",
    "ocean_perc = pd.read_csv(r\"resources\\ocean\\ocean_perc.csv\",index_col=0)\n",
    "\n",
    "\n",
    "\n",
    "train_ocean = ocean_perc[:102078]\n",
    "train_riasec = riasec_perc[:102078]\n",
    "train_data = data[:102078]\n",
    "# test_ocean = ocean_perc[102078:116,660] # Incorrect way of range \n",
    "# test_riasec = riasec_perc[102078:116,660]\n",
    "\n",
    "\n",
    "test_ocean_1 = ocean_perc[116660:]\n",
    "test_riasec_1 = riasec_perc[116660:]\n",
    "test_data_1 = data[116660:]\n"
   ]
  },
  {
   "cell_type": "code",
   "execution_count": 7,
   "metadata": {},
   "outputs": [
    {
     "output_type": "stream",
     "name": "stdout",
     "text": [
      "[0         50.0\n1         35.0\n2         22.5\n3         37.5\n4         32.5\n          ... \n102073    25.0\n102074    25.0\n102075    52.5\n102076    42.5\n102077    37.5\nName: Realistic, Length: 102078, dtype: float64, 0         1\n1         1\n2         2\n3         2\n4         2\n         ..\n102073    2\n102074    1\n102075    1\n102076    1\n102077    2\nName: gender, Length: 102078, dtype: int64]\n"
     ]
    }
   ],
   "source": [
    "R_x = [train_riasec['Realistic'],train_data['gender']]\n",
    "print(R_x)"
   ]
  },
  {
   "cell_type": "code",
   "execution_count": null,
   "metadata": {},
   "outputs": [],
   "source": [
    "R_x = train_riasec[['Realistic']]+train_data[['gender']]\n",
    "O_y = n.squeeze(train_ocean['Openness'])\n",
    "\n",
    "regr.fit(R_x, O_y)\n",
    "R_test = test_riasec_1[['Realistic']]\n",
    "\n",
    "O_pred = regr.predict(test_ocean_1[['Openness']].to_numpy())\n",
    "print(O_pred)\n",
    "\n",
    "R2 = r2_score(test_ocean_1['Openness'],O_pred)\n",
    "print(R2)"
   ]
  }
 ],
 "metadata": {
  "colab": {
   "name": "RIASEC-OCEAN_correlate.ipynb",
   "provenance": []
  },
  "kernelspec": {
   "name": "python3",
   "display_name": "Python 3.9.1 64-bit",
   "metadata": {
    "interpreter": {
     "hash": "03b1faad325bb8f8948b6268dd4120cb286894282f42a538b2769f77b1c6e144"
    }
   }
  },
  "language_info": {
   "codemirror_mode": {
    "name": "ipython",
    "version": 3
   },
   "file_extension": ".py",
   "mimetype": "text/x-python",
   "name": "python",
   "nbconvert_exporter": "python",
   "pygments_lexer": "ipython3",
   "version": "3.9.1"
  }
 },
 "nbformat": 4,
 "nbformat_minor": 4
}