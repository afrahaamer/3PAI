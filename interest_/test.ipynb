{
 "cells": [
  {
   "cell_type": "code",
   "execution_count": 2,
   "metadata": {
    "id": "ovOo4C0zSwSL"
   },
   "outputs": [],
   "source": [
    "import pandas as pd\n",
    "import numpy as n\n",
    "\n",
    "import matplotlib.pyplot as plt\n",
    "\n",
    "import seaborn as sns\n",
    "sns.set(rc={'figure.figsize':(11.7,8.27)})"
   ]
  },
  {
   "cell_type": "code",
   "execution_count": 99,
   "metadata": {},
   "outputs": [],
   "source": [
    "from sklearn import linear_model\n",
    "from sklearn.linear_model import LogisticRegression\n",
    "from sklearn.metrics import r2_score\n",
    "from sklearn import preprocessing\n",
    "from sklearn import utils\n",
    "from sklearn import svm\n"
   ]
  },
  {
   "cell_type": "code",
   "execution_count": 102,
   "metadata": {},
   "outputs": [
    {
     "name": "stderr",
     "output_type": "stream",
     "text": [
      "c:\\users\\bilal\\appdata\\local\\programs\\python\\python39\\lib\\site-packages\\IPython\\core\\interactiveshell.py:3146: DtypeWarning: Columns (93) have mixed types.Specify dtype option on import or set low_memory=False.\n",
      "  has_raised = await self.run_ast_nodes(code_ast.body, cell_name,\n"
     ]
    }
   ],
   "source": [
    "\n",
    "data = pd.read_csv(r\"resources\\data.csv\")\n",
    "riasec_perc = pd.read_csv(r\"resources\\riasec\\riasec_perc.csv\",index_col=0)\n",
    "ocean_perc = pd.read_csv(r\"resources\\ocean\\ocean_perc.csv\",index_col=0)\n",
    "\n",
    "\n",
    "\n",
    "train_ocean = ocean_perc[:102078] #2000\n",
    "train_riasec = riasec_perc[:102078]\n",
    "train_data = data[:102078]\n",
    "# test_ocean = ocean_perc[102078:116,660] # Incorrect way of range \n",
    "# test_riasec = riasec_perc[102078:116,660]\n",
    "\n",
    "\n",
    "test_ocean_1 = ocean_perc[116660:] # 145790\n",
    "test_riasec_1 = riasec_perc[116660:]\n",
    "test_data_1 = data[116660:]\n"
   ]
  },
  {
   "cell_type": "code",
   "execution_count": 59,
   "metadata": {},
   "outputs": [],
   "source": [
    "R_x = pd.concat([train_riasec['Realistic'].to_frame(), train_data['gender'].to_frame()],axis=1)"
   ]
  },
  {
   "cell_type": "code",
   "execution_count": null,
   "metadata": {},
   "outputs": [],
   "source": [
    "O_y = n.squeeze(train_ocean['Openness'])\n",
    "\n",
    "regr = linear_model.LogisticRegression()\n",
    "regr.fit(R_x, O_y)\n",
    "R_test = test_riasec_1[['Realistic']]\n",
    "\n",
    "O_pred = regr.predict(pd.concat([test_riasec_1['Realistic'].to_frame(), test_data_1['gender'].to_frame()],axis=1))\n",
    "print(O_pred)\n",
    "\n",
    "R2 = r2_score(test_ocean_1['Openness'],O_pred)\n",
    "print(R2)"
   ]
  },
  {
   "cell_type": "code",
   "execution_count": 61,
   "metadata": {},
   "outputs": [
    {
     "name": "stdout",
     "output_type": "stream",
     "text": [
      "[30.  30.  30.  ... 20.  72.5 52.5]\n"
     ]
    }
   ],
   "source": [
    "print(test_riasec_1['Realistic'].to_numpy())"
   ]
  },
  {
   "cell_type": "code",
   "execution_count": 103,
   "metadata": {},
   "outputs": [],
   "source": [
    "RS_x = train_riasec[['Realistic','Social']]\n",
    "O_y = n.squeeze(train_ocean['Openness'])"
   ]
  },
  {
   "cell_type": "code",
   "execution_count": null,
   "metadata": {},
   "outputs": [
    {
     "name": "stdout",
     "output_type": "stream",
     "text": [
      "SVR()\n"
     ]
    }
   ],
   "source": [
    "classifiers = [\n",
    "    svm.SVR(),\n",
    "    linear_model.SGDRegressor(),\n",
    "    linear_model.BayesianRidge(),\n",
    "    linear_model.LassoLars(),\n",
    "    linear_model.ARDRegression(),\n",
    "    linear_model.PassiveAggressiveRegressor(),\n",
    "    linear_model.TheilSenRegressor(),\n",
    "    linear_model.LinearRegression()]\n",
    "\n",
    "for item in classifiers:\n",
    "    print(item)\n",
    "    clf = item\n",
    "    clf.fit(RS_x, O_y)\n",
    "    print(clf.predict(test_riasec_1[['Realistic','Social']]),'\\n')\n",
    "    R2 = r2_score(test_ocean_1['Openness'],clf.predict(test_riasec_1[['Realistic','Social']]))\n",
    "    print(R2)\n"
   ]
  },
  {
   "cell_type": "code",
   "execution_count": 85,
   "metadata": {},
   "outputs": [
    {
     "name": "stdout",
     "output_type": "stream",
     "text": [
      "0.024935576993327824\n"
     ]
    }
   ],
   "source": [
    "\n",
    "regr = LogisticRegression()\n",
    "regr.fit(RS_x, O_y)\n",
    "O_pred = regr.predict(test_riasec_1[['Realistic','Social']])\n",
    "\n",
    "R2 = r2_score(test_ocean_1['Openness'],O_pred)\n",
    "print(R2)"
   ]
  },
  {
   "cell_type": "code",
   "execution_count": 86,
   "metadata": {},
   "outputs": [
    {
     "data": {
      "text/plain": [
       "145790     92.857143\n",
       "145791     92.857143\n",
       "145792     28.571429\n",
       "145793     57.142857\n",
       "145794     92.857143\n",
       "145795     50.000000\n",
       "145796     71.428571\n",
       "145797     92.857143\n",
       "145798     92.857143\n",
       "145799     85.714286\n",
       "145800     78.571429\n",
       "145801     71.428571\n",
       "145802     92.857143\n",
       "145803     57.142857\n",
       "145804     92.857143\n",
       "145805     92.857143\n",
       "145806     85.714286\n",
       "145807     57.142857\n",
       "145808     71.428571\n",
       "145809    100.000000\n",
       "145810     85.714286\n",
       "145811     78.571429\n",
       "145812     78.571429\n",
       "145813     85.714286\n",
       "145814     57.142857\n",
       "145815     92.857143\n",
       "145816     71.428571\n",
       "145817     78.571429\n",
       "145818    100.000000\n",
       "145819     92.857143\n",
       "145820     92.857143\n",
       "145821    100.000000\n",
       "145822     64.285714\n",
       "145823     78.571429\n",
       "145824    100.000000\n",
       "145825     78.571429\n",
       "145826     71.428571\n",
       "145827    100.000000\n",
       "Name: Openness, dtype: float64"
      ]
     },
     "execution_count": 86,
     "metadata": {},
     "output_type": "execute_result"
    }
   ],
   "source": [
    "test_ocean_1['Openness']"
   ]
  },
  {
   "cell_type": "code",
   "execution_count": 87,
   "metadata": {},
   "outputs": [
    {
     "data": {
      "text/plain": [
       "array([75.821634  , 76.56239846, 77.81534763, 75.35431735, 82.67814355,\n",
       "       78.79484899, 72.48523506, 77.17871588, 75.7564516 , 79.93350829,\n",
       "       78.83971706, 81.47006244, 81.39048347, 79.14787577, 80.21711327,\n",
       "       80.01308726, 74.6482638 , 79.38661268, 78.60098015, 79.46619165,\n",
       "       77.54189982, 74.48910586, 75.26458122, 72.88312991, 74.85652921,\n",
       "       77.39289905, 79.30703371, 81.23132553, 79.0682968 , 78.37240041,\n",
       "       81.81293205, 80.24166701, 73.27086759, 79.07845397, 81.47006244,\n",
       "       82.06182612, 79.68461422, 78.90913886])"
      ]
     },
     "execution_count": 87,
     "metadata": {},
     "output_type": "execute_result"
    }
   ],
   "source": [
    "O_pred"
   ]
  },
  {
   "cell_type": "code",
   "execution_count": 88,
   "metadata": {},
   "outputs": [
    {
     "data": {
      "text/plain": [
       "[<matplotlib.lines.Line2D at 0x1afb8e92ee0>]"
      ]
     },
     "execution_count": 88,
     "metadata": {},
     "output_type": "execute_result"
    },
    {
     "data": {
      "image/png": "[encoded data removed]",
      "text/plain": [
       "<Figure size 842.4x595.44 with 1 Axes>"
      ]
     },
     "metadata": {},
     "output_type": "display_data"
    }
   ],
   "source": [
    "plt.plot(test_ocean_1['Openness'],O_pred, '.')"
   ]
  },
  {
   "cell_type": "code",
   "execution_count": null,
   "metadata": {},
   "outputs": [],
   "source": []
  }
 ],
 "metadata": {
  "colab": {
   "name": "RIASEC-OCEAN_correlate.ipynb",
   "provenance": []
  },
  "kernelspec": {
   "display_name": "Python 3",
   "language": "python",
   "name": "python3"
  },
  "language_info": {
   "codemirror_mode": {
    "name": "ipython",
    "version": 3
   },
   "file_extension": ".py",
   "mimetype": "text/x-python",
   "name": "python",
   "nbconvert_exporter": "python",
   "pygments_lexer": "ipython3",
   "version": "3.9.0"
  }
 },
 "nbformat": 4,
 "nbformat_minor": 4
}
