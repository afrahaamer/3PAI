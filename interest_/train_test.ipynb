{
 "cells": [
  {
   "cell_type": "code",
   "execution_count": 1,
   "metadata": {
    "id": "ovOo4C0zSwSL"
   },
   "outputs": [],
   "source": [
    "import pandas as pd\n",
    "import numpy as n\n",
    "\n",
    "import matplotlib.pyplot as plt\n",
    "\n",
    "import seaborn as sns\n",
    "sns.set(rc={'figure.figsize':(11.7,8.27)})"
   ]
  },
  {
   "cell_type": "code",
   "execution_count": 2,
   "metadata": {
    "id": "OeH67debS-Lq"
   },
   "outputs": [],
   "source": [
    "\n",
    "data = pd.read_csv(r\"resources\\data.csv\")\n",
    "riasec_perc = pd.read_csv(r\"resources\\riasec\\riasec_perc.csv\",index_col=0)\n",
    "ocean_perc = pd.read_csv(r\"resources\\ocean\\ocean_perc.csv\",index_col=0)\n",
    "\n",
    "\n",
    "\n"
   ]
  },
  {
   "cell_type": "code",
   "execution_count": 3,
   "metadata": {},
   "outputs": [],
   "source": [
    "train_ocean = ocean_perc[:102078]\n",
    "train_riasec = riasec_perc[:102078]\n",
    "\n",
    "# test_ocean = ocean_perc[102078:116,660] # Incorrect way of range \n",
    "# test_riasec = riasec_perc[102078:116,660]\n",
    "\n",
    "\n",
    "test_ocean_1 = ocean_perc[116660:]\n",
    "test_riasec_1 = riasec_perc[116660:]\n",
    "\n",
    "\n",
    "\n"
   ]
  },
  {
   "cell_type": "code",
   "execution_count": 5,
   "metadata": {},
   "outputs": [
    {
     "output_type": "stream",
     "name": "stdout",
     "text": [
      "0.0595219425076556\n"
     ]
    }
   ],
   "source": [
    "x = train_ocean[['Openness','Conscientiousness','Extraversion','Agreeableness','Neuroticism']]\n",
    "y = train_riasec[['Realistic','Investigative','Artistic','Social','Enterprising','Conventional']]\n",
    "from sklearn import linear_model\n",
    "# y = test_riasec['Realistic']\n",
    "regr = linear_model.LinearRegression()\n",
    "regr.fit(x, y)\n",
    "\n",
    "riasec_pred = regr.predict(test_ocean_1)\n",
    "\n",
    "from sklearn.metrics import r2_score\n",
    "r2 = r2_score(test_riasec_1,riasec_pred)\n",
    "print(r2)"
   ]
  },
  {
   "cell_type": "code",
   "execution_count": 6,
   "metadata": {},
   "outputs": [
    {
     "output_type": "stream",
     "name": "stdout",
     "text": [
      "[77.0071441  76.79105289 77.0071441  ... 77.1151897  77.2232353\n 76.79105289]\n"
     ]
    }
   ],
   "source": [
    "R_x = train_riasec[['Realistic']]\n",
    "O_y = n.squeeze(train_ocean['Openness'])\n",
    "\n",
    "regr.fit(R_x, O_y)\n",
    "R_test = test_riasec_1[['Realistic']]\n",
    "\n",
    "O_pred = regr.predict(test_ocean_1[['Openness']].to_numpy())\n",
    "print(O_pred)"
   ]
  },
  {
   "cell_type": "code",
   "execution_count": 7,
   "metadata": {},
   "outputs": [
    {
     "output_type": "stream",
     "name": "stdout",
     "text": [
      "-0.03189065357502918\n"
     ]
    }
   ],
   "source": [
    "R2 = r2_score(test_ocean_1['Openness'],O_pred)\n",
    "print(R2)"
   ]
  },
  {
   "cell_type": "code",
   "execution_count": null,
   "metadata": {},
   "outputs": [],
   "source": []
  }
 ],
 "metadata": {
  "colab": {
   "name": "RIASEC-OCEAN_correlate.ipynb",
   "provenance": []
  },
  "kernelspec": {
   "display_name": "Python 3",
   "language": "python",
   "name": "python3"
  },
  "language_info": {
   "codemirror_mode": {
    "name": "ipython",
    "version": 3
   },
   "file_extension": ".py",
   "mimetype": "text/x-python",
   "name": "python",
   "nbconvert_exporter": "python",
   "pygments_lexer": "ipython3",
   "version": "3.9.0-final"
  }
 },
 "nbformat": 4,
 "nbformat_minor": 4
}