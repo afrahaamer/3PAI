{
 "cells": [
  {
   "cell_type": "code",
   "execution_count": 2,
   "metadata": {
    "id": "ovOo4C0zSwSL"
   },
   "outputs": [],
   "source": [
    "import pandas as pd\n",
    "import numpy as n\n",
    "\n",
    "import matplotlib.pyplot as plt\n",
    "\n",
    "import seaborn as sns\n",
    "sns.set(rc={'figure.figsize':(11.7,8.27)})"
   ]
  },
  {
   "cell_type": "code",
   "execution_count": 3,
   "metadata": {},
   "outputs": [
    {
     "name": "stderr",
     "output_type": "stream",
     "text": [
      "c:\\users\\bilal\\appdata\\local\\programs\\python\\python39\\lib\\site-packages\\IPython\\core\\interactiveshell.py:3146: DtypeWarning: Columns (93) have mixed types.Specify dtype option on import or set low_memory=False.\n",
      "  has_raised = await self.run_ast_nodes(code_ast.body, cell_name,\n"
     ]
    }
   ],
   "source": [
    "\n",
    "data = pd.read_csv(r\"resources\\data.csv\")\n",
    "riasec_perc = pd.read_csv(r\"resources\\riasec\\riasec_perc.csv\",index_col=0)\n",
    "ocean_perc = pd.read_csv(r\"resources\\ocean\\ocean_perc.csv\",index_col=0)\n",
    "\n",
    "\n",
    "\n",
    "train_ocean = ocean_perc[:102078]\n",
    "train_riasec = riasec_perc[:102078]\n",
    "train_data = data[:102078]\n",
    "# test_ocean = ocean_perc[102078:116,660] # Incorrect way of range \n",
    "# test_riasec = riasec_perc[102078:116,660]\n",
    "\n",
    "\n",
    "test_ocean_1 = ocean_perc[116660:]\n",
    "test_riasec_1 = riasec_perc[116660:]\n",
    "test_data_1 = data[116660:]\n"
   ]
  },
  {
   "cell_type": "code",
   "execution_count": 5,
   "metadata": {},
   "outputs": [
    {
     "data": {
      "text/plain": [
       "pandas.core.frame.DataFrame"
      ]
     },
     "execution_count": 5,
     "metadata": {},
     "output_type": "execute_result"
    }
   ],
   "source": [
    "type(train_riasec)"
   ]
  },
  {
   "cell_type": "code",
   "execution_count": 7,
   "metadata": {},
   "outputs": [
    {
     "name": "stdout",
     "output_type": "stream",
     "text": [
      "[0         50.0\n",
      "1         35.0\n",
      "2         22.5\n",
      "3         37.5\n",
      "4         32.5\n",
      "          ... \n",
      "102073    25.0\n",
      "102074    25.0\n",
      "102075    52.5\n",
      "102076    42.5\n",
      "102077    37.5\n",
      "Name: Realistic, Length: 102078, dtype: float64, 0         1\n",
      "1         1\n",
      "2         2\n",
      "3         2\n",
      "4         2\n",
      "         ..\n",
      "102073    2\n",
      "102074    1\n",
      "102075    1\n",
      "102076    1\n",
      "102077    2\n",
      "Name: gender, Length: 102078, dtype: int64]\n"
     ]
    }
   ],
   "source": [
    "R_x = pd.DataFrame() \n",
    "= [train_riasec['Realistic'],train_data['gender']]\n",
    "print(R_x)"
   ]
  },
  {
   "cell_type": "code",
   "execution_count": null,
   "metadata": {},
   "outputs": [],
   "source": [
    "R_x = train_riasec[['Realistic']]+train_data[['gender']]\n",
    "O_y = n.squeeze(train_ocean['Openness'])\n",
    "\n",
    "regr.fit(R_x, O_y)\n",
    "R_test = test_riasec_1[['Realistic']]\n",
    "\n",
    "O_pred = regr.predict(test_ocean_1[['Openness']].to_numpy())\n",
    "print(O_pred)\n",
    "\n",
    "R2 = r2_score(test_ocean_1['Openness'],O_pred)\n",
    "print(R2)"
   ]
  }
 ],
 "metadata": {
  "colab": {
   "name": "RIASEC-OCEAN_correlate.ipynb",
   "provenance": []
  },
  "kernelspec": {
   "display_name": "Python 3",
   "language": "python",
   "name": "python3"
  },
  "language_info": {
   "codemirror_mode": {
    "name": "ipython",
    "version": 3
   },
   "file_extension": ".py",
   "mimetype": "text/x-python",
   "name": "python",
   "nbconvert_exporter": "python",
   "pygments_lexer": "ipython3",
   "version": "3.9.0"
  }
 },
 "nbformat": 4,
 "nbformat_minor": 4
}
