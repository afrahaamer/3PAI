{
 "cells": [
  {
   "cell_type": "markdown",
   "metadata": {
    "id": "z6zlV-Dm3jV_"
   },
   "source": [
    "# INTRODUCTION:\n"
   ]
  },
  {
   "cell_type": "code",
   "execution_count": null,
   "metadata": {
    "id": "ugZTAkBl3eR5"
   },
   "outputs": [],
   "source": [
    "import torch\n",
    "import numpy as np\n",
    "import pandas as pd\n",
    "import seaborn as sns\n",
    "import matplotlib.pyplot as plt"
   ]
  },
  {
   "cell_type": "markdown",
   "metadata": {
    "id": "GWY4b5xf37VV"
   },
   "source": [
    "## Input Info:\n",
    "\n",
    "### Subtask Intelligence:\n",
    "Student takes a test in the Subject.The test contains questions with a scale on the Bloom's Taxonomy\n",
    "\n",
    "### Subtask Interest:\n",
    "        Input the following:\n",
    "            \n",
    "            1. MBTI\n",
    "\n",
    "            2. CEI-Curiousity and Exploration Inventory (via the Teacher) on a scale of 1-7\n",
    "                \n",
    "\t\t        1. actively seeks information \n",
    "                2. involvement\n",
    "                3. new opportunities/information/people/resources\n",
    "                4. (-ve) usually not into new things\n",
    "                5. interruptability / distraction\n",
    "                6. consistent in looking for new things / experiences\n",
    "                    \n",
    "\t\t            EXPLORATION = (1+3-4) [18.74 <= EXPLORATION_AVG <= 19.97]\n",
    "                    ABSORPTION = (2+5+6+7)[13.16 <=  ABSORPTION_AVG <= 15.44]\n",
    "                    CURIOUSITY_AVG = (EXPLORATION_AVG + ABSORPTION_AVG) \n",
    "                    [32.7<= CURIOUSITY_AVG <= 34.18]\n",
    "\n",
    "            3. Student Input"
   ]
  },
  {
   "cell_type": "markdown",
   "metadata": {
    "id": "RHo140j9j9QT"
   },
   "source": [
    "#MBTI?\n",
    "\n",
    "The 16 MBTI personality types\n",
    "The Myers-Briggs Type Indicator® (MBTI®) Step I is based on Carl Jung’s theory of psychological type. It indicates your personality preferences in four dimensions:\n",
    "\n",
    "    1.Where you focus your attention – Extraversion (E) or Introversion (I)\n",
    "\n",
    "    2.The way you take in information – Sensing (S) or INtuition (N)\n",
    "\n",
    "    3.How you make decisions – Thinking (T) or Feeling (F)\n",
    "\n",
    "    4.How you deal with the world – Judging (J) or Perceiving (P)\n",
    "\n",
    "\n"
   ]
  },
  {
   "cell_type": "code",
   "execution_count": null,
   "metadata": {
    "id": "IGkHnuCr35pk"
   },
   "outputs": [],
   "source": [
    "def get_mbti():\n",
    "    mbti = input(\"Enter the 4 character MBTI code: \\n\").upper()\n",
    "    if (len(mbti) != 4):\n",
    "        print(\"Invalid Code!\")\n",
    "        if mbti[0] != ['I', 'E']:\n",
    "            print('Invalid Entry: ')\n",
    "        if mbti[1] != ['S', 'N']:\n",
    "            print('Invalid Entry!')\n",
    "        if mbti[2] != ['T', 'F']:\n",
    "            print('Invalid Entry!')\n",
    "        if mbti[3] != ['J', 'P']:\n",
    "            print('Invalid Entry!')\n",
    "\n",
    "    print(mbti)"
   ]
  },
  {
   "cell_type": "code",
   "execution_count": null,
   "metadata": {
    "colab": {
     "base_uri": "https://localhost:8080/"
    },
    "id": "ZJB1q_RyksKV",
    "outputId": "f56243ab-5489-4b93-ec13-547cd4713a3b"
   },
   "outputs": [
    {
     "name": "stdout",
     "output_type": "stream",
     "text": [
      "Enter the 4 character MBTI code: \n",
      "789652\n",
      "Invalid Code!\n",
      "Invalid Entry!\n",
      "Invalid Entry!\n",
      "Invalid Entry!\n",
      "Invalid Entry!\n",
      "789652\n"
     ]
    }
   ],
   "source": [
    "mbti = get_mbti()"
   ]
  },
  {
   "cell_type": "code",
   "execution_count": 10,
   "metadata": {
    "id": "xEqQoV3alr4D"
   },
   "outputs": [],
   "source": [
    "class Student:\n",
    "    def __init__(self, mbti, Name, DOB, Age):\n",
    "        self.mbti = mbti\n",
    "        self.Name = Name\n",
    "        self.DOB = DOB\n",
    "        self.Age = Age"
   ]
  },
  {
   "cell_type": "code",
   "execution_count": 11,
   "metadata": {
    "id": "vAsU_5E1MIIc"
   },
   "outputs": [],
   "source": [
    "s1 = Student(12, \"Bilal\", \"10-10-2002\", 18)"
   ]
  },
  {
   "cell_type": "code",
   "execution_count": 15,
   "metadata": {
    "colab": {
     "base_uri": "https://localhost:8080/"
    },
    "id": "jSlSNC8DYYIg",
    "outputId": "2ca32286-5f51-40df-c464-2eb1b2e21297"
   },
   "outputs": [
    {
     "name": "stdout",
     "output_type": "stream",
     "text": [
      "Bilal 18 10-10-2002 12\n"
     ]
    }
   ],
   "source": [
    "print(s1.Name, s1.Age, s1.DOB, s1.mbti)"
   ]
  },
  {
   "cell_type": "code",
   "execution_count": 22,
   "metadata": {
    "id": "yG5mrPakYifu"
   },
   "outputs": [],
   "source": [
    "class Subject:\n",
    "     def get_data(self):\n",
    "        intelligence = list(input(\"Enter the intelligence parameters for each subject in order: \\n\"))\n",
    "        interest = list(input(\"Enter the interrest parameters for each subject in order: \\n\"))"
   ]
  },
  {
   "cell_type": "code",
   "execution_count": 23,
   "metadata": {
    "id": "KvBsGtKIa7bD"
   },
   "outputs": [],
   "source": [
    "english = Subject()"
   ]
  },
  {
   "cell_type": "code",
   "execution_count": null,
   "metadata": {
    "id": "5kzAi2KXbAse"
   },
   "outputs": [],
   "source": [
    "englus"
   ]
  }
 ],
 "metadata": {
  "colab": {
   "collapsed_sections": [],
   "name": "EduProject.ipynb",
   "provenance": []
  },
  "kernelspec": {
   "display_name": "Python 3",
   "language": "python",
   "name": "python3"
  },
  "language_info": {
   "codemirror_mode": {
    "name": "ipython",
    "version": 3
   },
   "file_extension": ".py",
   "mimetype": "text/x-python",
   "name": "python",
   "nbconvert_exporter": "python",
   "pygments_lexer": "ipython3",
   "version": "3.9.0"
  }
 },
 "nbformat": 4,
 "nbformat_minor": 1
}
