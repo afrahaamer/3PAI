from BloomsDetector import l1
import matplotlib.pyplot as plt
range = (0,max(l1))

