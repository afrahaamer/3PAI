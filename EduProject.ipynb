{
  "nbformat": 4,
  "nbformat_minor": 0,
  "metadata": {
    "colab": {
      "name": "EduProject.ipynb",
      "provenance": [],
      "collapsed_sections": []
    },
    "kernelspec": {
      "name": "python3",
      "display_name": "Python 3"
    }
  },
  "cells": [
    {
      "cell_type": "markdown",
      "metadata": {
        "id": "z6zlV-Dm3jV_"
      },
      "source": [
        "# INTRODUCTION:\r\n"
      ]
    },
    {
      "cell_type": "code",
      "metadata": {
        "id": "ugZTAkBl3eR5"
      },
      "source": [
        "import torch\r\n",
        "import numpy as np\r\n",
        "import pandas as pd\r\n",
        "import seaborn as sns\r\n",
        "import matplotlib.pyplot as plt"
      ],
      "execution_count": null,
      "outputs": []
    },
    {
      "cell_type": "markdown",
      "metadata": {
        "id": "GWY4b5xf37VV"
      },
      "source": [
        "## Input Info:\r\n",
        "\r\n",
        "### Subtask Intelligence:\r\n",
        "Student takes a test in the Subject.The test contains questions with a scale on the Bloom's Taxonomy\r\n",
        "\r\n",
        "### Subtask Interest:\r\n",
        "        Input the following:\r\n",
        "            \r\n",
        "            1. MBTI\r\n",
        "\r\n",
        "            2. CEI-Curiousity and Exploration Inventory (via the Teacher) on a scale of 1-7\r\n",
        "                \r\n",
        "\t\t        1. actively seeks information \r\n",
        "                2. involvement\r\n",
        "                3. new opportunities/information/people/resources\r\n",
        "                4. (-ve) usually not into new things\r\n",
        "                5. interruptability / distraction\r\n",
        "                6. consistent in looking for new things / experiences\r\n",
        "                    \r\n",
        "\t\t            EXPLORATION = (1+3-4) [18.74 <= EXPLORATION_AVG <= 19.97]\r\n",
        "                    ABSORPTION = (2+5+6+7)[13.16 <=  ABSORPTION_AVG <= 15.44]\r\n",
        "                    CURIOUSITY_AVG = (EXPLORATION_AVG + ABSORPTION_AVG) \r\n",
        "                    [32.7<= CURIOUSITY_AVG <= 34.18]\r\n",
        "\r\n",
        "            3. Student Input"
      ]
    },
    {
      "cell_type": "markdown",
      "metadata": {
        "id": "RHo140j9j9QT"
      },
      "source": [
        "#MBTI?\r\n",
        "\r\n",
        "The 16 MBTI personality types\r\n",
        "The Myers-Briggs Type Indicator® (MBTI®) Step I is based on Carl Jung’s theory of psychological type. It indicates your personality preferences in four dimensions:\r\n",
        "\r\n",
        "    1.Where you focus your attention – Extraversion (E) or Introversion (I)\r\n",
        "\r\n",
        "    2.The way you take in information – Sensing (S) or INtuition (N)\r\n",
        "\r\n",
        "    3.How you make decisions – Thinking (T) or Feeling (F)\r\n",
        "\r\n",
        "    4.How you deal with the world – Judging (J) or Perceiving (P)\r\n",
        "\r\n",
        "\r\n"
      ]
    },
    {
      "cell_type": "code",
      "metadata": {
        "id": "IGkHnuCr35pk"
      },
      "source": [
        "def get_mbti():\r\n",
        "    mbti = input(\"Enter the 4 character MBTI code: \\n\").upper()\r\n",
        "    if (len(mbti) != 4):\r\n",
        "        print(\"Invalid Code!\")\r\n",
        "        if mbti[0] != ['I', 'E']:\r\n",
        "            print('Invalid Entry: ')\r\n",
        "        if mbti[1] != ['S', 'N']:\r\n",
        "            print('Invalid Entry!')\r\n",
        "        if mbti[2] != ['T', 'F']:\r\n",
        "            print('Invalid Entry!')\r\n",
        "        if mbti[3] != ['J', 'P']:\r\n",
        "            print('Invalid Entry!')\r\n",
        "\r\n",
        "    print(mbti)"
      ],
      "execution_count": null,
      "outputs": []
    },
    {
      "cell_type": "code",
      "metadata": {
        "colab": {
          "base_uri": "https://localhost:8080/"
        },
        "id": "ZJB1q_RyksKV",
        "outputId": "f56243ab-5489-4b93-ec13-547cd4713a3b"
      },
      "source": [
        "mbti = get_mbti()"
      ],
      "execution_count": null,
      "outputs": [
        {
          "output_type": "stream",
          "text": [
            "Enter the 4 character MBTI code: \n",
            "789652\n",
            "Invalid Code!\n",
            "Invalid Entry!\n",
            "Invalid Entry!\n",
            "Invalid Entry!\n",
            "Invalid Entry!\n",
            "789652\n"
          ],
          "name": "stdout"
        }
      ]
    },
    {
      "cell_type": "code",
      "metadata": {
        "id": "xEqQoV3alr4D"
      },
      "source": [
        "class Student:\r\n",
        "    def __init__(self, mbti, Name, DOB, Age):\r\n",
        "        self.mbti = mbti\r\n",
        "        self.Name = Name\r\n",
        "        self.DOB = DOB\r\n",
        "        self.Age = Age"
      ],
      "execution_count": 10,
      "outputs": []
    },
    {
      "cell_type": "code",
      "metadata": {
        "id": "vAsU_5E1MIIc"
      },
      "source": [
        "s1 = Student(12, \"Bilal\", \"10-10-2002\", 18)"
      ],
      "execution_count": 11,
      "outputs": []
    },
    {
      "cell_type": "code",
      "metadata": {
        "colab": {
          "base_uri": "https://localhost:8080/"
        },
        "id": "jSlSNC8DYYIg",
        "outputId": "2ca32286-5f51-40df-c464-2eb1b2e21297"
      },
      "source": [
        "print(s1.Name, s1.Age, s1.DOB, s1.mbti)"
      ],
      "execution_count": 15,
      "outputs": [
        {
          "output_type": "stream",
          "text": [
            "Bilal 18 10-10-2002 12\n"
          ],
          "name": "stdout"
        }
      ]
    },
    {
      "cell_type": "code",
      "metadata": {
        "id": "yG5mrPakYifu"
      },
      "source": [
        "class Subject:\r\n",
        "     def get_data(self):\r\n",
        "        intelligence = list(input(\"Enter the intelligence parameters for each subject in order: \\n\"))\r\n",
        "        interest = list(input(\"Enter the interrest parameters for each subject in order: \\n\"))"
      ],
      "execution_count": 22,
      "outputs": []
    },
    {
      "cell_type": "code",
      "metadata": {
        "id": "KvBsGtKIa7bD"
      },
      "source": [
        "english = Subject()"
      ],
      "execution_count": 23,
      "outputs": []
    },
    {
      "cell_type": "code",
      "metadata": {
        "id": "5kzAi2KXbAse"
      },
      "source": [
        "englus"
      ],
      "execution_count": null,
      "outputs": []
    }
  ]
}