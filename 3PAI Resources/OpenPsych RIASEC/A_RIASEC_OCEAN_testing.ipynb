{
 "cells": [
  {
   "cell_type": "code",
   "execution_count": 1,
   "metadata": {
    "id": "ovOo4C0zSwSL"
   },
   "outputs": [],
   "source": [
    "import pandas as pd\n",
    "import numpy as n\n",
    "\n",
    "import matplotlib.pyplot as plt\n",
    "\n",
    "import seaborn as sns\n",
    "sns.set(rc={'figure.figsize':(11.7,8.27)})"
   ]
  },
  {
   "cell_type": "code",
   "execution_count": 2,
   "metadata": {
    "id": "OeH67debS-Lq"
   },
   "outputs": [],
   "source": [
    "df = pd.read_csv(\"data.csv\")\n",
    "riasec = pd.read_csv(\"riasec.csv\")\n",
    "ocean = pd.read_csv(\"ocean.csv\")"
   ]
  },
  {
   "cell_type": "code",
   "execution_count": null,
   "metadata": {},
   "outputs": [],
   "source": []
  },
  {
   "cell_type": "code",
   "execution_count": 8,
   "metadata": {
    "id": "33pgsn0pXIbf"
   },
   "outputs": [],
   "source": [
    "riasecVals = [0, 0, 0, 0, 0, 0]\n",
    "riasecVals[0] = (riasec.loc[0][0]+riasec.loc[0][1]+riasec.loc[0][2]+riasec.loc[0][3]+riasec.loc[0][4]+riasec.loc[0][5]+riasec.loc[0][6]+riasec.loc[0][7]) * 2.5\n",
    "riasecVals[1] = (riasec.loc[0][8]+riasec.loc[0][9]+riasec.loc[0][10]+riasec.loc[0][11]+riasec.loc[0][12]+riasec.loc[0][13]+riasec.loc[0][14]+riasec.loc[0][15])*2.5\n",
    "riasecVals[2] = (riasec.loc[0][16]+riasec.loc[0][17]+riasec.loc[0][18]+riasec.loc[0][19]+riasec.loc[0][20]+riasec.loc[0][21]+riasec.loc[0][22]+riasec.loc[0][23])*2.5\n",
    "riasecVals[3] = (riasec.loc[0][24]+riasec.loc[0][25]+riasec.loc[0][26]+riasec.loc[0][27]+riasec.loc[0][28]+riasec.loc[0][29]+riasec.loc[0][30]+riasec.loc[0][31])*2.5\n",
    "riasecVals[4] = (riasec.loc[0][32]+riasec.loc[0][33]+riasec.loc[0][34]+riasec.loc[0][35]+riasec.loc[0][36]+riasec.loc[0][37]+riasec.loc[0][38]+riasec.loc[0][39])*2.5\n",
    "riasecVals[5] = (riasec.loc[0][40]+riasec.loc[0][41]+riasec.loc[0][42]+riasec.loc[0][43]+riasec.loc[0][44]+riasec.loc[0][45]+riasec.loc[0][46]+riasec.loc[0][47])*2.5"
   ]
  },
  {
   "cell_type": "code",
   "execution_count": 9,
   "metadata": {
    "colab": {
     "base_uri": "https://localhost:8080/"
    },
    "id": "tLhdOvMfZOHB",
    "outputId": "290d979f-6a7a-4213-a517-9d185dc430a4"
   },
   "outputs": [
    {
     "output_type": "stream",
     "name": "stdout",
     "text": [
      "[50.0, 82.5, 67.5, 92.5, 40.0, 30.0]\n"
     ]
    }
   ],
   "source": [
    "print(riasecVals)"
   ]
  },
  {
   "cell_type": "code",
   "execution_count": 13,
   "metadata": {
    "colab": {
     "base_uri": "https://localhost:8080/"
    },
    "id": "BWXaBTszaEtf",
    "outputId": "39fe2b18-af54-46a8-b266-3bc3ad0d37ad"
   },
   "outputs": [
    {
     "output_type": "stream",
     "name": "stdout",
     "text": [
      "[35.714285714285715, 28.571428571428573, 42.85714285714286, 64.28571428571429, 78.57142857142857]\n"
     ]
    }
   ],
   "source": [
    "oceanVals = [0,0,0,0,0]\n",
    "oceanVals[0] = ((ocean.loc[0][4] + (8 - ocean.loc[0][9]))/2) * (100/7)\n",
    "oceanVals[1] = ((ocean.loc[0][2] + (8 - ocean.loc[0][7]))/2) * (100/7)\n",
    "oceanVals[2] = ((ocean.loc[0][0] + (8 - ocean.loc[0][5]))/2) * (100/7)\n",
    "oceanVals[3] = ((ocean.loc[0][6] + (8 - ocean.loc[0][1]))/2) * (100/7)\n",
    "oceanVals[4] = ((ocean.loc[0][8] + (8 - ocean.loc[0][3]))/2) * (100/7)\n",
    "print(oceanVals)"
   ]
  },
  {
   "cell_type": "code",
   "execution_count": 14,
   "metadata": {
    "colab": {
     "base_uri": "https://localhost:8080/"
    },
    "id": "NFmIqYmLbNu-",
    "outputId": "b3fb4ac6-ce36-45f7-d62a-e141f4d8e115"
   },
   "outputs": [
    {
     "output_type": "stream",
     "name": "stdout",
     "text": [
      "[35.714285714285715, 28.571428571428573, 42.85714285714286, 64.28571428571429, 78.57142857142857] [50.0, 82.5, 67.5, 92.5, 40.0, 30.0]\n"
     ]
    }
   ],
   "source": [
    "print(oceanVals, riasecVals)"
   ]
  }
 ],
 "metadata": {
  "colab": {
   "name": "RIASEC-OCEAN_correlate.ipynb",
   "provenance": []
  },
  "kernelspec": {
   "name": "python3",
   "display_name": "Python 3.9.1 64-bit",
   "metadata": {
    "interpreter": {
     "hash": "03b1faad325bb8f8948b6268dd4120cb286894282f42a538b2769f77b1c6e144"
    }
   }
  },
  "language_info": {
   "codemirror_mode": {
    "name": "ipython",
    "version": 3
   },
   "file_extension": ".py",
   "mimetype": "text/x-python",
   "name": "python",
   "nbconvert_exporter": "python",
   "pygments_lexer": "ipython3",
   "version": "3.9.1"
  }
 },
 "nbformat": 4,
 "nbformat_minor": 4
}